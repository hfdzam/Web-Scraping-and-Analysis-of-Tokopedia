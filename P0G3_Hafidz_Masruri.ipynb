{
 "cells": [
  {
   "cell_type": "markdown",
   "metadata": {},
   "source": [
    "=================================================\n",
    "\n",
    "Graded Challenge 3\n",
    "\n",
    "Nama  : Hafidz Abdillah Masruri\n",
    "Batch : HCK-18\n",
    "\n",
    "Program ini dibuat untuk melakukan web scraping serta melakukan analisa terhadap web tokopedia\n",
    "\n",
    "================================================="
   ]
  },
  {
   "cell_type": "markdown",
   "metadata": {},
   "source": [
    "# A. Web Scraping"
   ]
  },
  {
   "cell_type": "code",
   "execution_count": 2,
   "metadata": {},
   "outputs": [
    {
     "data": {
      "text/html": [
       "<div>\n",
       "<style scoped>\n",
       "    .dataframe tbody tr th:only-of-type {\n",
       "        vertical-align: middle;\n",
       "    }\n",
       "\n",
       "    .dataframe tbody tr th {\n",
       "        vertical-align: top;\n",
       "    }\n",
       "\n",
       "    .dataframe thead th {\n",
       "        text-align: right;\n",
       "    }\n",
       "</style>\n",
       "<table border=\"1\" class=\"dataframe\">\n",
       "  <thead>\n",
       "    <tr style=\"text-align: right;\">\n",
       "      <th></th>\n",
       "      <th>Produk</th>\n",
       "      <th>Harga</th>\n",
       "      <th>Toko</th>\n",
       "      <th>Kota</th>\n",
       "      <th>Terjual</th>\n",
       "      <th>Rating</th>\n",
       "    </tr>\n",
       "  </thead>\n",
       "  <tbody>\n",
       "    <tr>\n",
       "      <th>0</th>\n",
       "      <td>Seblak Rafael, Seblak Coet Instan Halal</td>\n",
       "      <td>Rp25.000</td>\n",
       "      <td>Brother Meat Shop</td>\n",
       "      <td>Depok</td>\n",
       "      <td>500+ terjual</td>\n",
       "      <td>5.0</td>\n",
       "    </tr>\n",
       "    <tr>\n",
       "      <th>1</th>\n",
       "      <td>Seblak Rafael/Seblak Coet Instan Halal</td>\n",
       "      <td>Rp26.600</td>\n",
       "      <td>Foodstocks</td>\n",
       "      <td>Jakarta Selatan</td>\n",
       "      <td>250+ terjual</td>\n",
       "      <td>5.0</td>\n",
       "    </tr>\n",
       "    <tr>\n",
       "      <th>2</th>\n",
       "      <td>Seblak Instan</td>\n",
       "      <td>Rp8.000</td>\n",
       "      <td>ROEMAH MOSLEM</td>\n",
       "      <td>Kab. Boyolali</td>\n",
       "      <td>70+ terjual</td>\n",
       "      <td>5.0</td>\n",
       "    </tr>\n",
       "    <tr>\n",
       "      <th>3</th>\n",
       "      <td>Kerupuk Seblak Rafael Pedas / Seblak Mawar Ped...</td>\n",
       "      <td>Rp16.000</td>\n",
       "      <td>DUO BOCIL SNACK</td>\n",
       "      <td>Depok</td>\n",
       "      <td>250+ terjual</td>\n",
       "      <td>4.9</td>\n",
       "    </tr>\n",
       "    <tr>\n",
       "      <th>4</th>\n",
       "      <td>Seblak Sultan instant</td>\n",
       "      <td>Rp14.000</td>\n",
       "      <td>Sultan Meat Shop</td>\n",
       "      <td>Medan</td>\n",
       "      <td>250+ terjual</td>\n",
       "      <td>4.8</td>\n",
       "    </tr>\n",
       "    <tr>\n",
       "      <th>...</th>\n",
       "      <td>...</td>\n",
       "      <td>...</td>\n",
       "      <td>...</td>\n",
       "      <td>...</td>\n",
       "      <td>...</td>\n",
       "      <td>...</td>\n",
       "    </tr>\n",
       "    <tr>\n",
       "      <th>825</th>\n",
       "      <td>None</td>\n",
       "      <td>None</td>\n",
       "      <td>None</td>\n",
       "      <td>None</td>\n",
       "      <td>None</td>\n",
       "      <td>None</td>\n",
       "    </tr>\n",
       "    <tr>\n",
       "      <th>826</th>\n",
       "      <td>None</td>\n",
       "      <td>None</td>\n",
       "      <td>None</td>\n",
       "      <td>None</td>\n",
       "      <td>None</td>\n",
       "      <td>None</td>\n",
       "    </tr>\n",
       "    <tr>\n",
       "      <th>827</th>\n",
       "      <td>None</td>\n",
       "      <td>None</td>\n",
       "      <td>None</td>\n",
       "      <td>None</td>\n",
       "      <td>None</td>\n",
       "      <td>None</td>\n",
       "    </tr>\n",
       "    <tr>\n",
       "      <th>828</th>\n",
       "      <td>None</td>\n",
       "      <td>None</td>\n",
       "      <td>None</td>\n",
       "      <td>None</td>\n",
       "      <td>None</td>\n",
       "      <td>None</td>\n",
       "    </tr>\n",
       "    <tr>\n",
       "      <th>829</th>\n",
       "      <td>None</td>\n",
       "      <td>None</td>\n",
       "      <td>None</td>\n",
       "      <td>None</td>\n",
       "      <td>None</td>\n",
       "      <td>None</td>\n",
       "    </tr>\n",
       "  </tbody>\n",
       "</table>\n",
       "<p>830 rows × 6 columns</p>\n",
       "</div>"
      ],
      "text/plain": [
       "                                                Produk     Harga  \\\n",
       "0              Seblak Rafael, Seblak Coet Instan Halal  Rp25.000   \n",
       "1               Seblak Rafael/Seblak Coet Instan Halal  Rp26.600   \n",
       "2                                        Seblak Instan   Rp8.000   \n",
       "3    Kerupuk Seblak Rafael Pedas / Seblak Mawar Ped...  Rp16.000   \n",
       "4                                Seblak Sultan instant  Rp14.000   \n",
       "..                                                 ...       ...   \n",
       "825                                               None      None   \n",
       "826                                               None      None   \n",
       "827                                               None      None   \n",
       "828                                               None      None   \n",
       "829                                               None      None   \n",
       "\n",
       "                  Toko             Kota       Terjual Rating  \n",
       "0    Brother Meat Shop            Depok  500+ terjual    5.0  \n",
       "1           Foodstocks  Jakarta Selatan  250+ terjual    5.0  \n",
       "2        ROEMAH MOSLEM    Kab. Boyolali   70+ terjual    5.0  \n",
       "3      DUO BOCIL SNACK            Depok  250+ terjual    4.9  \n",
       "4     Sultan Meat Shop            Medan  250+ terjual    4.8  \n",
       "..                 ...              ...           ...    ...  \n",
       "825               None             None          None   None  \n",
       "826               None             None          None   None  \n",
       "827               None             None          None   None  \n",
       "828               None             None          None   None  \n",
       "829               None             None          None   None  \n",
       "\n",
       "[830 rows x 6 columns]"
      ]
     },
     "execution_count": 2,
     "metadata": {},
     "output_type": "execute_result"
    }
   ],
   "source": [
    "# import library yang akan dipakai\n",
    "import pandas as pd\n",
    "from bs4 import BeautifulSoup\n",
    "from selenium import webdriver\n",
    "import time\n",
    "\n",
    "\n",
    "# setup seleinum webdriver\n",
    "driver = webdriver.Chrome()\n",
    "\n",
    "# membuat list baru\n",
    "namaproduk = []\n",
    "harga = []\n",
    "penjual = []\n",
    "kotatoko = []\n",
    "banyakterjual = []\n",
    "rating=[]\n",
    "\n",
    "# cara agar page terbaca mulai dari 1 hingga yang diinginkan\n",
    "page = range(1, 11)  # -> [1,2,3,4,5,6]\n",
    "for x in page:\n",
    "\n",
    "    # defined target website URL\n",
    "    url=f\"https://www.tokopedia.com/search?navsource=&page={x}&q=seblak&search_id=20240627170557EE46A882DC1D2B1F8Q2D&srp_component_id=02.01.00.00&srp_page_id=&srp_page_title=&st=\"\n",
    "\n",
    "    # jika ingin membuat program berhenti selama 2 detik\n",
    "    time.sleep(5)\n",
    "\n",
    "    # redirect selenium to open the URL\n",
    "    driver.get(url)\n",
    "\n",
    "    # extract page content (HTML) from the website\n",
    "    html = driver.page_source\n",
    "\n",
    "    # convert/parse the HTML into BeautifulSoup object\n",
    "    soup = BeautifulSoup(html, \"html.parser\")\n",
    "\n",
    "    box = soup.find_all('div',{\"class\":\"css-5wh65g\"})\n",
    "\n",
    "    for data in box:\n",
    "        txtname = (data.find('span',{\"class\":\"OWkG6oHwAppMn1hIBsC3pQ==\"}))\n",
    "        txtharga = (data.find('div',{\"class\":\"_8cR53N0JqdRc+mQCckhS0g==\"}))\n",
    "        txtpenjual = (data.find('span',{\"class\":\"X6c-fdwuofj6zGvLKVUaNQ== -9tiTbQgmU1vCjykywQqvA== flip\"}))\n",
    "        txtkotatoko = (data.find('span',{\"class\":\"-9tiTbQgmU1vCjykywQqvA== flip\"}))\n",
    "        txtbanyakterjual = (data.find('span',{\"class\":\"eLOomHl6J3IWAcdRU8M08A==\"}))\n",
    "        txtrating = (data.find('span',{\"class\":\"nBBbPk9MrELbIUbobepKbQ==\"}))\n",
    "\n",
    "        if txtname:\n",
    "            namaproduk.append(txtname.get_text().strip())\n",
    "        else:\n",
    "            namaproduk.append(None)\n",
    "\n",
    "        if txtharga:\n",
    "            harga.append(txtharga.get_text().strip())\n",
    "        else:\n",
    "            harga.append(None)\n",
    "\n",
    "        if txtpenjual:\n",
    "            penjual.append(txtpenjual.get_text().strip())\n",
    "        else:\n",
    "            penjual.append(None)\n",
    "\n",
    "        if txtkotatoko:\n",
    "            kotatoko.append(txtkotatoko.get_text().strip())\n",
    "        else:\n",
    "            kotatoko.append(None)\n",
    "\n",
    "        if txtbanyakterjual:\n",
    "            banyakterjual.append(txtbanyakterjual.get_text().strip())\n",
    "        else:\n",
    "            banyakterjual.append(None)\n",
    "\n",
    "        if txtrating:\n",
    "            rating.append(txtrating.get_text().strip())\n",
    "        else:\n",
    "            rating.append(None)\n",
    "\n",
    "\n",
    "df = pd.DataFrame()\n",
    "\n",
    "#membuat kolom2 baru\n",
    "df['Produk'] = namaproduk\n",
    "df['Harga'] = harga\n",
    "df['Toko'] = penjual\n",
    "df['Kota'] = kotatoko\n",
    "df['Terjual'] =banyakterjual\n",
    "df['Rating'] = rating\n",
    "\n",
    "df"
   ]
  },
  {
   "cell_type": "markdown",
   "metadata": {},
   "source": [
    "Hasil web scraping pada url tokopedia dengan pencarian seblak sebanyak 10 halaman dengan langkah langkah seperti import library serta setup penggunaan selenium, lalu selanjutnya diisi dengan pembuatan lis baru yang nantinya sebagai bentuk penyimpanan yang kita cari, penggunaan for x in page agar bisa membuat web melakukan perubahan pada url pencarian, time.sleep berfungsi sebagai membuat program berhenti sejenak selama yang ditentukan, data.find digunakan untuk pencarian dari apa yang akan kita cari yang nantinya disimpan dalam bentuk lis dan kita masukan semua agar menjadi dataframe"
   ]
  },
  {
   "cell_type": "code",
   "execution_count": null,
   "metadata": {},
   "outputs": [],
   "source": [
    "df.to_csv(\"df.csv\",index=False)"
   ]
  },
  {
   "cell_type": "markdown",
   "metadata": {},
   "source": [
    "Melakukan penyimpanan pada hasil scraping menjadi csv"
   ]
  },
  {
   "cell_type": "code",
   "execution_count": 4,
   "metadata": {},
   "outputs": [],
   "source": [
    "df=pd.read_csv('df.csv')"
   ]
  },
  {
   "cell_type": "markdown",
   "metadata": {},
   "source": [
    "Melakukan pembacaan terhadap file csv"
   ]
  },
  {
   "cell_type": "markdown",
   "metadata": {},
   "source": [
    "# B. Data Preparation"
   ]
  },
  {
   "cell_type": "code",
   "execution_count": 5,
   "metadata": {},
   "outputs": [
    {
     "data": {
      "text/html": [
       "<div>\n",
       "<style scoped>\n",
       "    .dataframe tbody tr th:only-of-type {\n",
       "        vertical-align: middle;\n",
       "    }\n",
       "\n",
       "    .dataframe tbody tr th {\n",
       "        vertical-align: top;\n",
       "    }\n",
       "\n",
       "    .dataframe thead th {\n",
       "        text-align: right;\n",
       "    }\n",
       "</style>\n",
       "<table border=\"1\" class=\"dataframe\">\n",
       "  <thead>\n",
       "    <tr style=\"text-align: right;\">\n",
       "      <th></th>\n",
       "      <th>Produk</th>\n",
       "      <th>Harga</th>\n",
       "      <th>Toko</th>\n",
       "      <th>Kota</th>\n",
       "      <th>Terjual</th>\n",
       "      <th>Rating</th>\n",
       "    </tr>\n",
       "  </thead>\n",
       "  <tbody>\n",
       "    <tr>\n",
       "      <th>0</th>\n",
       "      <td>KerUpuk Seblak Kerupuk Beton Pedas Daun Jeruk ...</td>\n",
       "      <td>Rp15.000</td>\n",
       "      <td>Mega_Snack_095</td>\n",
       "      <td>Cimahi</td>\n",
       "      <td>6 terjual</td>\n",
       "      <td>5.0</td>\n",
       "    </tr>\n",
       "    <tr>\n",
       "      <th>1</th>\n",
       "      <td>Seblak Rafael, Seblak Coet Instan Halal</td>\n",
       "      <td>Rp25.000</td>\n",
       "      <td>Brother Meat Shop</td>\n",
       "      <td>Depok</td>\n",
       "      <td>500+ terjual</td>\n",
       "      <td>5.0</td>\n",
       "    </tr>\n",
       "    <tr>\n",
       "      <th>2</th>\n",
       "      <td>Seblak Rafael/Seblak Coet Instan Halal</td>\n",
       "      <td>Rp26.600</td>\n",
       "      <td>Foodstocks</td>\n",
       "      <td>Jakarta Selatan</td>\n",
       "      <td>250+ terjual</td>\n",
       "      <td>5.0</td>\n",
       "    </tr>\n",
       "    <tr>\n",
       "      <th>3</th>\n",
       "      <td>seblak instan jeletot jajanan hits bandung 1 p...</td>\n",
       "      <td>Rp4.180</td>\n",
       "      <td>tokomakanankalimantan</td>\n",
       "      <td>Jakarta Barat</td>\n",
       "      <td>1rb+ terjual</td>\n",
       "      <td>4.8</td>\n",
       "    </tr>\n",
       "    <tr>\n",
       "      <th>4</th>\n",
       "      <td>KERUPUK SEBLAK MENTAH 1KG WARNA WARNI</td>\n",
       "      <td>Rp26.500</td>\n",
       "      <td>BociKakang</td>\n",
       "      <td>Jakarta Selatan</td>\n",
       "      <td>250+ terjual</td>\n",
       "      <td>5.0</td>\n",
       "    </tr>\n",
       "    <tr>\n",
       "      <th>...</th>\n",
       "      <td>...</td>\n",
       "      <td>...</td>\n",
       "      <td>...</td>\n",
       "      <td>...</td>\n",
       "      <td>...</td>\n",
       "      <td>...</td>\n",
       "    </tr>\n",
       "    <tr>\n",
       "      <th>823</th>\n",
       "      <td>NaN</td>\n",
       "      <td>NaN</td>\n",
       "      <td>NaN</td>\n",
       "      <td>NaN</td>\n",
       "      <td>NaN</td>\n",
       "      <td>NaN</td>\n",
       "    </tr>\n",
       "    <tr>\n",
       "      <th>824</th>\n",
       "      <td>NaN</td>\n",
       "      <td>NaN</td>\n",
       "      <td>NaN</td>\n",
       "      <td>NaN</td>\n",
       "      <td>NaN</td>\n",
       "      <td>NaN</td>\n",
       "    </tr>\n",
       "    <tr>\n",
       "      <th>825</th>\n",
       "      <td>NaN</td>\n",
       "      <td>NaN</td>\n",
       "      <td>NaN</td>\n",
       "      <td>NaN</td>\n",
       "      <td>NaN</td>\n",
       "      <td>NaN</td>\n",
       "    </tr>\n",
       "    <tr>\n",
       "      <th>826</th>\n",
       "      <td>NaN</td>\n",
       "      <td>NaN</td>\n",
       "      <td>NaN</td>\n",
       "      <td>NaN</td>\n",
       "      <td>NaN</td>\n",
       "      <td>NaN</td>\n",
       "    </tr>\n",
       "    <tr>\n",
       "      <th>827</th>\n",
       "      <td>NaN</td>\n",
       "      <td>NaN</td>\n",
       "      <td>NaN</td>\n",
       "      <td>NaN</td>\n",
       "      <td>NaN</td>\n",
       "      <td>NaN</td>\n",
       "    </tr>\n",
       "  </tbody>\n",
       "</table>\n",
       "<p>828 rows × 6 columns</p>\n",
       "</div>"
      ],
      "text/plain": [
       "                                                Produk     Harga  \\\n",
       "0    KerUpuk Seblak Kerupuk Beton Pedas Daun Jeruk ...  Rp15.000   \n",
       "1              Seblak Rafael, Seblak Coet Instan Halal  Rp25.000   \n",
       "2               Seblak Rafael/Seblak Coet Instan Halal  Rp26.600   \n",
       "3    seblak instan jeletot jajanan hits bandung 1 p...   Rp4.180   \n",
       "4                KERUPUK SEBLAK MENTAH 1KG WARNA WARNI  Rp26.500   \n",
       "..                                                 ...       ...   \n",
       "823                                                NaN       NaN   \n",
       "824                                                NaN       NaN   \n",
       "825                                                NaN       NaN   \n",
       "826                                                NaN       NaN   \n",
       "827                                                NaN       NaN   \n",
       "\n",
       "                      Toko             Kota       Terjual  Rating  \n",
       "0           Mega_Snack_095           Cimahi     6 terjual     5.0  \n",
       "1        Brother Meat Shop            Depok  500+ terjual     5.0  \n",
       "2               Foodstocks  Jakarta Selatan  250+ terjual     5.0  \n",
       "3    tokomakanankalimantan    Jakarta Barat  1rb+ terjual     4.8  \n",
       "4               BociKakang  Jakarta Selatan  250+ terjual     5.0  \n",
       "..                     ...              ...           ...     ...  \n",
       "823                    NaN              NaN           NaN     NaN  \n",
       "824                    NaN              NaN           NaN     NaN  \n",
       "825                    NaN              NaN           NaN     NaN  \n",
       "826                    NaN              NaN           NaN     NaN  \n",
       "827                    NaN              NaN           NaN     NaN  \n",
       "\n",
       "[828 rows x 6 columns]"
      ]
     },
     "execution_count": 5,
     "metadata": {},
     "output_type": "execute_result"
    }
   ],
   "source": [
    "df_1=df.copy()\n",
    "df_1"
   ]
  },
  {
   "cell_type": "markdown",
   "metadata": {},
   "source": [
    "Disini kita mendapatkan 6 kolom dimana berisi Produk, Harga, Toko, Kota, Terjual, Rating sebanyak 830 rows, tetapi isi tersebut masih terdapat banyak missing value, serta data belum dibersihkan, langkah yang akan kita lakukan adalah menghapus missing value, Rp pada harga, + terjual pada kolom terjual, serta mengganti type data agar sesuai dengan data"
   ]
  },
  {
   "cell_type": "code",
   "execution_count": 6,
   "metadata": {},
   "outputs": [
    {
     "name": "stdout",
     "output_type": "stream",
     "text": [
      "<class 'pandas.core.frame.DataFrame'>\n",
      "RangeIndex: 828 entries, 0 to 827\n",
      "Data columns (total 6 columns):\n",
      " #   Column   Non-Null Count  Dtype  \n",
      "---  ------   --------------  -----  \n",
      " 0   Produk   203 non-null    object \n",
      " 1   Harga    203 non-null    object \n",
      " 2   Toko     203 non-null    object \n",
      " 3   Kota     203 non-null    object \n",
      " 4   Terjual  200 non-null    object \n",
      " 5   Rating   194 non-null    float64\n",
      "dtypes: float64(1), object(5)\n",
      "memory usage: 38.9+ KB\n"
     ]
    }
   ],
   "source": [
    "df_1.info()"
   ]
  },
  {
   "cell_type": "markdown",
   "metadata": {},
   "source": [
    "Pada df_1.info() disini bisa terlihat bahwasannya terdapat 830 rows tetapi jumlah tiap kolom berbeda yang artinya sangat banyak missing value, serta hanya ada 1 kolom yang memiliki typedata float yang lain object"
   ]
  },
  {
   "cell_type": "code",
   "execution_count": 7,
   "metadata": {},
   "outputs": [],
   "source": [
    "df_2=df_1.dropna()\n",
    "df_2=df_2.reset_index(drop=True)"
   ]
  },
  {
   "cell_type": "markdown",
   "metadata": {},
   "source": [
    "Menghilangkan missing value serta reset index agar sesuai dengan urutan"
   ]
  },
  {
   "cell_type": "code",
   "execution_count": 8,
   "metadata": {},
   "outputs": [],
   "source": [
    "df_2['Harga']=df_2['Harga'].str.replace('Rp','')\n",
    "df_2['Harga']=df_2['Harga'].str.replace('.','')"
   ]
  },
  {
   "cell_type": "markdown",
   "metadata": {},
   "source": [
    "Melakukan replace kepada Rp dan '.' dikarenakan nantinya akan merubah type data objek menjadi type data integer"
   ]
  },
  {
   "cell_type": "code",
   "execution_count": 9,
   "metadata": {},
   "outputs": [],
   "source": [
    "def replace_terjual(dataframe):\n",
    "    #Menghapus '+ terjual' yang berada pada isi table agar isi dapat dihitung\n",
    "    for obj in dataframe.columns:\n",
    "        if dataframe[obj].dtype == 'object':\n",
    "            dataframe[obj] = dataframe[obj].str.replace(\"+ terjual\", \"\")\n",
    "replace_terjual(df_2)\n",
    "\n",
    "def replace_terjual2(dataframe):\n",
    "    #Menghapus ' terjual' yang berada pada isi table agar isi dapat dihitung\n",
    "    for obj in dataframe.columns:\n",
    "        if dataframe[obj].dtype == 'object':\n",
    "            dataframe[obj] = dataframe[obj].str.replace(\" terjual\", \"\")\n",
    "replace_terjual2(df_2)\n",
    "\n",
    "\n",
    "df_2['Harga']=df_2['Harga'].str.replace('.','')\n",
    "df_2['Terjual']=df_2['Terjual'].str.replace('rb','000')\n"
   ]
  },
  {
   "cell_type": "markdown",
   "metadata": {},
   "source": [
    "Melakukan fungsi untuk menghapus huruf atau simbol yang tidak digunakan, serta mengganti beberapa kata seperti rb menjadi '000' agar nanti dapat dihitung"
   ]
  },
  {
   "cell_type": "code",
   "execution_count": 10,
   "metadata": {},
   "outputs": [
    {
     "data": {
      "text/html": [
       "<div>\n",
       "<style scoped>\n",
       "    .dataframe tbody tr th:only-of-type {\n",
       "        vertical-align: middle;\n",
       "    }\n",
       "\n",
       "    .dataframe tbody tr th {\n",
       "        vertical-align: top;\n",
       "    }\n",
       "\n",
       "    .dataframe thead th {\n",
       "        text-align: right;\n",
       "    }\n",
       "</style>\n",
       "<table border=\"1\" class=\"dataframe\">\n",
       "  <thead>\n",
       "    <tr style=\"text-align: right;\">\n",
       "      <th></th>\n",
       "      <th>Produk</th>\n",
       "      <th>Harga</th>\n",
       "      <th>Toko</th>\n",
       "      <th>Kota</th>\n",
       "      <th>Terjual</th>\n",
       "      <th>Rating</th>\n",
       "    </tr>\n",
       "  </thead>\n",
       "  <tbody>\n",
       "    <tr>\n",
       "      <th>0</th>\n",
       "      <td>KerUpuk Seblak Kerupuk Beton Pedas Daun Jeruk ...</td>\n",
       "      <td>15000</td>\n",
       "      <td>Mega_Snack_095</td>\n",
       "      <td>Cimahi</td>\n",
       "      <td>6</td>\n",
       "      <td>5.0</td>\n",
       "    </tr>\n",
       "    <tr>\n",
       "      <th>1</th>\n",
       "      <td>Seblak Rafael, Seblak Coet Instan Halal</td>\n",
       "      <td>25000</td>\n",
       "      <td>Brother Meat Shop</td>\n",
       "      <td>Depok</td>\n",
       "      <td>500</td>\n",
       "      <td>5.0</td>\n",
       "    </tr>\n",
       "    <tr>\n",
       "      <th>2</th>\n",
       "      <td>Seblak Rafael/Seblak Coet Instan Halal</td>\n",
       "      <td>26600</td>\n",
       "      <td>Foodstocks</td>\n",
       "      <td>Jakarta Selatan</td>\n",
       "      <td>250</td>\n",
       "      <td>5.0</td>\n",
       "    </tr>\n",
       "    <tr>\n",
       "      <th>3</th>\n",
       "      <td>seblak instan jeletot jajanan hits bandung 1 p...</td>\n",
       "      <td>4180</td>\n",
       "      <td>tokomakanankalimantan</td>\n",
       "      <td>Jakarta Barat</td>\n",
       "      <td>1000</td>\n",
       "      <td>4.8</td>\n",
       "    </tr>\n",
       "    <tr>\n",
       "      <th>4</th>\n",
       "      <td>KERUPUK SEBLAK MENTAH 1KG WARNA WARNI</td>\n",
       "      <td>26500</td>\n",
       "      <td>BociKakang</td>\n",
       "      <td>Jakarta Selatan</td>\n",
       "      <td>250</td>\n",
       "      <td>5.0</td>\n",
       "    </tr>\n",
       "    <tr>\n",
       "      <th>...</th>\n",
       "      <td>...</td>\n",
       "      <td>...</td>\n",
       "      <td>...</td>\n",
       "      <td>...</td>\n",
       "      <td>...</td>\n",
       "      <td>...</td>\n",
       "    </tr>\n",
       "    <tr>\n",
       "      <th>189</th>\n",
       "      <td>SEBLAK INSTANT PEDAS JERUK</td>\n",
       "      <td>10000</td>\n",
       "      <td>ICIP ICIP SNACK BANDUNG</td>\n",
       "      <td>Bandung</td>\n",
       "      <td>30</td>\n",
       "      <td>5.0</td>\n",
       "    </tr>\n",
       "    <tr>\n",
       "      <th>190</th>\n",
       "      <td>PILUS CIKUR 250 GRAM KHAS SUKABUMI BASO ACI/BO...</td>\n",
       "      <td>9999</td>\n",
       "      <td>ArfaOnlineShop</td>\n",
       "      <td>Tangerang</td>\n",
       "      <td>90</td>\n",
       "      <td>4.9</td>\n",
       "    </tr>\n",
       "    <tr>\n",
       "      <th>191</th>\n",
       "      <td>kerupuk mawar putih mentah 250 gram/kerupuk se...</td>\n",
       "      <td>5950</td>\n",
       "      <td>Aris lampu</td>\n",
       "      <td>Kab. Sidoarjo</td>\n",
       "      <td>2</td>\n",
       "      <td>5.0</td>\n",
       "    </tr>\n",
       "    <tr>\n",
       "      <th>192</th>\n",
       "      <td>cuanki lidah isi 25 topping baso aci dan seblak</td>\n",
       "      <td>6999</td>\n",
       "      <td>Culametan Food</td>\n",
       "      <td>Kab. Garut</td>\n",
       "      <td>6</td>\n",
       "      <td>4.5</td>\n",
       "    </tr>\n",
       "    <tr>\n",
       "      <th>193</th>\n",
       "      <td>Sukro Cikur BUNGKUS isi 10pcs untuk Toping Bas...</td>\n",
       "      <td>7000</td>\n",
       "      <td>alien toko</td>\n",
       "      <td>Kab. Garut</td>\n",
       "      <td>100</td>\n",
       "      <td>4.7</td>\n",
       "    </tr>\n",
       "  </tbody>\n",
       "</table>\n",
       "<p>194 rows × 6 columns</p>\n",
       "</div>"
      ],
      "text/plain": [
       "                                                Produk  Harga  \\\n",
       "0    KerUpuk Seblak Kerupuk Beton Pedas Daun Jeruk ...  15000   \n",
       "1              Seblak Rafael, Seblak Coet Instan Halal  25000   \n",
       "2               Seblak Rafael/Seblak Coet Instan Halal  26600   \n",
       "3    seblak instan jeletot jajanan hits bandung 1 p...   4180   \n",
       "4                KERUPUK SEBLAK MENTAH 1KG WARNA WARNI  26500   \n",
       "..                                                 ...    ...   \n",
       "189                         SEBLAK INSTANT PEDAS JERUK  10000   \n",
       "190  PILUS CIKUR 250 GRAM KHAS SUKABUMI BASO ACI/BO...   9999   \n",
       "191  kerupuk mawar putih mentah 250 gram/kerupuk se...   5950   \n",
       "192    cuanki lidah isi 25 topping baso aci dan seblak   6999   \n",
       "193  Sukro Cikur BUNGKUS isi 10pcs untuk Toping Bas...   7000   \n",
       "\n",
       "                        Toko             Kota Terjual  Rating  \n",
       "0             Mega_Snack_095           Cimahi       6     5.0  \n",
       "1          Brother Meat Shop            Depok     500     5.0  \n",
       "2                 Foodstocks  Jakarta Selatan     250     5.0  \n",
       "3      tokomakanankalimantan    Jakarta Barat    1000     4.8  \n",
       "4                 BociKakang  Jakarta Selatan     250     5.0  \n",
       "..                       ...              ...     ...     ...  \n",
       "189  ICIP ICIP SNACK BANDUNG          Bandung      30     5.0  \n",
       "190           ArfaOnlineShop        Tangerang      90     4.9  \n",
       "191               Aris lampu    Kab. Sidoarjo       2     5.0  \n",
       "192           Culametan Food       Kab. Garut       6     4.5  \n",
       "193               alien toko       Kab. Garut     100     4.7  \n",
       "\n",
       "[194 rows x 6 columns]"
      ]
     },
     "execution_count": 10,
     "metadata": {},
     "output_type": "execute_result"
    }
   ],
   "source": [
    "df_2"
   ]
  },
  {
   "cell_type": "markdown",
   "metadata": {},
   "source": [
    "Hasil dari pembersihan none serta perubahan pada simbol atau huruf yang tidak diperlukan"
   ]
  },
  {
   "cell_type": "code",
   "execution_count": 11,
   "metadata": {},
   "outputs": [],
   "source": [
    "df_2['Harga'] = df_2['Harga'].astype(int)\n",
    "df_2['Terjual'] = df_2['Terjual'].astype(float)"
   ]
  },
  {
   "cell_type": "markdown",
   "metadata": {},
   "source": [
    "Merubah type data pada kolom 'Harga' dan 'Terjual' dari object menjadi integer dan float"
   ]
  },
  {
   "cell_type": "code",
   "execution_count": 12,
   "metadata": {},
   "outputs": [
    {
     "name": "stdout",
     "output_type": "stream",
     "text": [
      "<class 'pandas.core.frame.DataFrame'>\n",
      "RangeIndex: 194 entries, 0 to 193\n",
      "Data columns (total 6 columns):\n",
      " #   Column   Non-Null Count  Dtype  \n",
      "---  ------   --------------  -----  \n",
      " 0   Produk   194 non-null    object \n",
      " 1   Harga    194 non-null    int32  \n",
      " 2   Toko     194 non-null    object \n",
      " 3   Kota     194 non-null    object \n",
      " 4   Terjual  194 non-null    float64\n",
      " 5   Rating   194 non-null    float64\n",
      "dtypes: float64(2), int32(1), object(3)\n",
      "memory usage: 8.5+ KB\n"
     ]
    }
   ],
   "source": [
    "df_2.info()"
   ]
  },
  {
   "cell_type": "markdown",
   "metadata": {},
   "source": [
    "Hasil dari clean data yang sebelumnya memiki jumlah rows 830 menjadi 196 data siap pakai, dengan type data yang sudah dirubah"
   ]
  },
  {
   "cell_type": "code",
   "execution_count": 13,
   "metadata": {},
   "outputs": [
    {
     "data": {
      "text/html": [
       "<div>\n",
       "<style scoped>\n",
       "    .dataframe tbody tr th:only-of-type {\n",
       "        vertical-align: middle;\n",
       "    }\n",
       "\n",
       "    .dataframe tbody tr th {\n",
       "        vertical-align: top;\n",
       "    }\n",
       "\n",
       "    .dataframe thead th {\n",
       "        text-align: right;\n",
       "    }\n",
       "</style>\n",
       "<table border=\"1\" class=\"dataframe\">\n",
       "  <thead>\n",
       "    <tr style=\"text-align: right;\">\n",
       "      <th></th>\n",
       "      <th>Produk</th>\n",
       "      <th>Harga</th>\n",
       "      <th>Toko</th>\n",
       "      <th>Kota</th>\n",
       "      <th>Terjual</th>\n",
       "      <th>Rating</th>\n",
       "    </tr>\n",
       "  </thead>\n",
       "  <tbody>\n",
       "    <tr>\n",
       "      <th>98</th>\n",
       "      <td>Somay mini Gurilem batagor mini toping seblak ...</td>\n",
       "      <td>13999</td>\n",
       "      <td>Distributor Cuanki dan Seblak</td>\n",
       "      <td>Kab. Bekasi</td>\n",
       "      <td>250.0</td>\n",
       "      <td>4.9</td>\n",
       "    </tr>\n",
       "    <tr>\n",
       "      <th>80</th>\n",
       "      <td>Kylafood Seblak Original Play</td>\n",
       "      <td>19125</td>\n",
       "      <td>kylafood</td>\n",
       "      <td>Bandung</td>\n",
       "      <td>1000.0</td>\n",
       "      <td>4.9</td>\n",
       "    </tr>\n",
       "    <tr>\n",
       "      <th>22</th>\n",
       "      <td>Pilus Cikur 1Kg Khas Garut Topping Baso Aci / ...</td>\n",
       "      <td>30000</td>\n",
       "      <td>Pedas Gilaa</td>\n",
       "      <td>Surabaya</td>\n",
       "      <td>500.0</td>\n",
       "      <td>4.9</td>\n",
       "    </tr>\n",
       "    <tr>\n",
       "      <th>82</th>\n",
       "      <td>Kylafood Seblak karuhun</td>\n",
       "      <td>12825</td>\n",
       "      <td>kylafood</td>\n",
       "      <td>Bandung</td>\n",
       "      <td>4000.0</td>\n",
       "      <td>4.8</td>\n",
       "    </tr>\n",
       "    <tr>\n",
       "      <th>51</th>\n",
       "      <td>SEBLAK INSTAN MOMMY</td>\n",
       "      <td>13900</td>\n",
       "      <td>Rav Jaya Display</td>\n",
       "      <td>Kab. Tangerang</td>\n",
       "      <td>1000.0</td>\n",
       "      <td>4.8</td>\n",
       "    </tr>\n",
       "    <tr>\n",
       "      <th>166</th>\n",
       "      <td>seblak ceker pedas kerupuk</td>\n",
       "      <td>10000</td>\n",
       "      <td>ken-olshop</td>\n",
       "      <td>Bekasi</td>\n",
       "      <td>250.0</td>\n",
       "      <td>5.0</td>\n",
       "    </tr>\n",
       "    <tr>\n",
       "      <th>3</th>\n",
       "      <td>seblak instan jeletot jajanan hits bandung 1 p...</td>\n",
       "      <td>4180</td>\n",
       "      <td>tokomakanankalimantan</td>\n",
       "      <td>Jakarta Barat</td>\n",
       "      <td>1000.0</td>\n",
       "      <td>4.8</td>\n",
       "    </tr>\n",
       "    <tr>\n",
       "      <th>138</th>\n",
       "      <td>KerUpuk Seblak Kerupuk Beton Pedas Daun Jeruk ...</td>\n",
       "      <td>15000</td>\n",
       "      <td>Mega_Snack_095</td>\n",
       "      <td>Cimahi</td>\n",
       "      <td>6.0</td>\n",
       "      <td>5.0</td>\n",
       "    </tr>\n",
       "    <tr>\n",
       "      <th>23</th>\n",
       "      <td>Seblak Instan Kenyang Murah Asli Bandung Resel...</td>\n",
       "      <td>7138</td>\n",
       "      <td>Berkah Food Bandung</td>\n",
       "      <td>Cimahi</td>\n",
       "      <td>7000.0</td>\n",
       "      <td>4.9</td>\n",
       "    </tr>\n",
       "    <tr>\n",
       "      <th>47</th>\n",
       "      <td>Gelifood Combo 3pcs Seblak Ceker Tanpa Tulang ...</td>\n",
       "      <td>65000</td>\n",
       "      <td>Lidigeli</td>\n",
       "      <td>Kab. Garut</td>\n",
       "      <td>50.0</td>\n",
       "      <td>4.7</td>\n",
       "    </tr>\n",
       "  </tbody>\n",
       "</table>\n",
       "</div>"
      ],
      "text/plain": [
       "                                                Produk  Harga  \\\n",
       "98   Somay mini Gurilem batagor mini toping seblak ...  13999   \n",
       "80                       Kylafood Seblak Original Play  19125   \n",
       "22   Pilus Cikur 1Kg Khas Garut Topping Baso Aci / ...  30000   \n",
       "82                             Kylafood Seblak karuhun  12825   \n",
       "51                                 SEBLAK INSTAN MOMMY  13900   \n",
       "166                         seblak ceker pedas kerupuk  10000   \n",
       "3    seblak instan jeletot jajanan hits bandung 1 p...   4180   \n",
       "138  KerUpuk Seblak Kerupuk Beton Pedas Daun Jeruk ...  15000   \n",
       "23   Seblak Instan Kenyang Murah Asli Bandung Resel...   7138   \n",
       "47   Gelifood Combo 3pcs Seblak Ceker Tanpa Tulang ...  65000   \n",
       "\n",
       "                              Toko            Kota  Terjual  Rating  \n",
       "98   Distributor Cuanki dan Seblak     Kab. Bekasi    250.0     4.9  \n",
       "80                        kylafood         Bandung   1000.0     4.9  \n",
       "22                     Pedas Gilaa        Surabaya    500.0     4.9  \n",
       "82                        kylafood         Bandung   4000.0     4.8  \n",
       "51                Rav Jaya Display  Kab. Tangerang   1000.0     4.8  \n",
       "166                     ken-olshop          Bekasi    250.0     5.0  \n",
       "3            tokomakanankalimantan   Jakarta Barat   1000.0     4.8  \n",
       "138                 Mega_Snack_095          Cimahi      6.0     5.0  \n",
       "23             Berkah Food Bandung          Cimahi   7000.0     4.9  \n",
       "47                        Lidigeli      Kab. Garut     50.0     4.7  "
      ]
     },
     "execution_count": 13,
     "metadata": {},
     "output_type": "execute_result"
    }
   ],
   "source": [
    "df_2.sample(10)"
   ]
  },
  {
   "cell_type": "markdown",
   "metadata": {},
   "source": [
    "Hasil akhir dari beberapa contoh tampilan data selesai clean"
   ]
  },
  {
   "cell_type": "markdown",
   "metadata": {},
   "source": [
    "# C. Business Understanding/Problem Statement"
   ]
  },
  {
   "cell_type": "markdown",
   "metadata": {},
   "source": [
    "#### Problem statment:\n",
    "    Meningkatkan penjualan produk seblak sebanyak 20% melalui tokopedia dalam kurun waktu 3 bulan\n",
    "\n",
    "#### SMART:\n",
    "- Spesific (S):\n",
    "    Meningkatkan penjualan produk seblak pada tokopedia\n",
    "- Measurable (M):\n",
    "    Peningkatan penjualan sebanyak 20% dari stock yang dijual\n",
    "- Achievable (A):\n",
    "    Implementasi pemasaran dan promosi untuk meningkatkan daya tarik penjualan\n",
    "- Relevant (R):\n",
    "    Meningkatkan varian topping, serta memberikan diskon agar penjualan dapat meningkat\n",
    "- Time-bound (T):\n",
    "    Dalam kurun waktu 3 bulan dapat meningkatkan penjualan sebesar 20%"
   ]
  },
  {
   "cell_type": "markdown",
   "metadata": {},
   "source": [
    "# D. Analysis"
   ]
  },
  {
   "cell_type": "code",
   "execution_count": 14,
   "metadata": {},
   "outputs": [],
   "source": [
    "import numpy as np\n",
    "from scipy import stats\n",
    "import matplotlib.pyplot as plt\n",
    "import seaborn as sns"
   ]
  },
  {
   "cell_type": "markdown",
   "metadata": {},
   "source": [
    "Import beberapa library yang akan digunakan dalam penghitungan serta pembuatan grafik"
   ]
  },
  {
   "cell_type": "markdown",
   "metadata": {},
   "source": [
    "## 1."
   ]
  },
  {
   "cell_type": "code",
   "execution_count": 15,
   "metadata": {},
   "outputs": [
    {
     "data": {
      "text/html": [
       "<div>\n",
       "<style scoped>\n",
       "    .dataframe tbody tr th:only-of-type {\n",
       "        vertical-align: middle;\n",
       "    }\n",
       "\n",
       "    .dataframe tbody tr th {\n",
       "        vertical-align: top;\n",
       "    }\n",
       "\n",
       "    .dataframe thead th {\n",
       "        text-align: right;\n",
       "    }\n",
       "</style>\n",
       "<table border=\"1\" class=\"dataframe\">\n",
       "  <thead>\n",
       "    <tr style=\"text-align: right;\">\n",
       "      <th></th>\n",
       "      <th>Harga</th>\n",
       "      <th>Terjual</th>\n",
       "      <th>Rating</th>\n",
       "    </tr>\n",
       "  </thead>\n",
       "  <tbody>\n",
       "    <tr>\n",
       "      <th>0</th>\n",
       "      <td>15000</td>\n",
       "      <td>6.0</td>\n",
       "      <td>5.0</td>\n",
       "    </tr>\n",
       "    <tr>\n",
       "      <th>1</th>\n",
       "      <td>25000</td>\n",
       "      <td>500.0</td>\n",
       "      <td>5.0</td>\n",
       "    </tr>\n",
       "    <tr>\n",
       "      <th>2</th>\n",
       "      <td>26600</td>\n",
       "      <td>250.0</td>\n",
       "      <td>5.0</td>\n",
       "    </tr>\n",
       "    <tr>\n",
       "      <th>3</th>\n",
       "      <td>4180</td>\n",
       "      <td>1000.0</td>\n",
       "      <td>4.8</td>\n",
       "    </tr>\n",
       "    <tr>\n",
       "      <th>4</th>\n",
       "      <td>26500</td>\n",
       "      <td>250.0</td>\n",
       "      <td>5.0</td>\n",
       "    </tr>\n",
       "    <tr>\n",
       "      <th>...</th>\n",
       "      <td>...</td>\n",
       "      <td>...</td>\n",
       "      <td>...</td>\n",
       "    </tr>\n",
       "    <tr>\n",
       "      <th>189</th>\n",
       "      <td>10000</td>\n",
       "      <td>30.0</td>\n",
       "      <td>5.0</td>\n",
       "    </tr>\n",
       "    <tr>\n",
       "      <th>190</th>\n",
       "      <td>9999</td>\n",
       "      <td>90.0</td>\n",
       "      <td>4.9</td>\n",
       "    </tr>\n",
       "    <tr>\n",
       "      <th>191</th>\n",
       "      <td>5950</td>\n",
       "      <td>2.0</td>\n",
       "      <td>5.0</td>\n",
       "    </tr>\n",
       "    <tr>\n",
       "      <th>192</th>\n",
       "      <td>6999</td>\n",
       "      <td>6.0</td>\n",
       "      <td>4.5</td>\n",
       "    </tr>\n",
       "    <tr>\n",
       "      <th>193</th>\n",
       "      <td>7000</td>\n",
       "      <td>100.0</td>\n",
       "      <td>4.7</td>\n",
       "    </tr>\n",
       "  </tbody>\n",
       "</table>\n",
       "<p>194 rows × 3 columns</p>\n",
       "</div>"
      ],
      "text/plain": [
       "     Harga  Terjual  Rating\n",
       "0    15000      6.0     5.0\n",
       "1    25000    500.0     5.0\n",
       "2    26600    250.0     5.0\n",
       "3     4180   1000.0     4.8\n",
       "4    26500    250.0     5.0\n",
       "..     ...      ...     ...\n",
       "189  10000     30.0     5.0\n",
       "190   9999     90.0     4.9\n",
       "191   5950      2.0     5.0\n",
       "192   6999      6.0     4.5\n",
       "193   7000    100.0     4.7\n",
       "\n",
       "[194 rows x 3 columns]"
      ]
     },
     "execution_count": 15,
     "metadata": {},
     "output_type": "execute_result"
    }
   ],
   "source": [
    "df_3=df_2.copy()\n",
    "df_3.drop(['Produk'], axis=1, inplace=True)\n",
    "df_3.drop(['Toko'], axis=1, inplace=True)\n",
    "df_3.drop(['Kota'], axis=1, inplace=True)\n",
    "df_3"
   ]
  },
  {
   "cell_type": "markdown",
   "metadata": {},
   "source": [
    "Menghapus kolom yang tidak terpakai seperti 'Produk', 'Toko', 'Kota', karena yang dibutuhkan hanya kolom 'Harga', 'Terjual', 'Rating'"
   ]
  },
  {
   "cell_type": "code",
   "execution_count": 16,
   "metadata": {},
   "outputs": [
    {
     "name": "stdout",
     "output_type": "stream",
     "text": [
      "Rata-rata Harga: 22330.46907216495\n",
      "Median Harga: 14437.5\n",
      "Standar deviasi Harga: 23865.95759332085\n",
      "Skewness Harga: 2.4920028082270633\n",
      "Kurtosis Harga: 7.328461354536145\n"
     ]
    }
   ],
   "source": [
    "print(\"Rata-rata Harga:\",df_3[\"Harga\"].mean())\n",
    "print(\"Median Harga:\",df_3[\"Harga\"].median())\n",
    "print(\"Standar deviasi Harga:\",df_3[\"Harga\"].std())\n",
    "print(f\"Skewness Harga: {df_3['Harga'].skew()}\")\n",
    "print(f\"Kurtosis Harga: {df_3['Harga'].kurtosis()}\")\n"
   ]
  },
  {
   "cell_type": "markdown",
   "metadata": {},
   "source": [
    "Pada cell diatas menjelaskan hasil dari rata-rata, median, standar deviasi, skewness, dan kurtosis dari kolom harga"
   ]
  },
  {
   "cell_type": "code",
   "execution_count": 17,
   "metadata": {},
   "outputs": [
    {
     "name": "stdout",
     "output_type": "stream",
     "text": [
      "Rata-rata barang terjual: 702.6237113402062\n",
      "Median Barang Terjual: 175.0\n",
      "Standar deviasi Barang Terjual: 1586.233580423401\n",
      "Skewness Barang Terjual: 4.290840294730278\n",
      "Kurtosis Barang Terjual: 20.313693215226643\n"
     ]
    }
   ],
   "source": [
    "print(\"Rata-rata barang terjual:\",df_3[\"Terjual\"].mean())\n",
    "print(\"Median Barang Terjual:\",df_3[\"Terjual\"].median())\n",
    "print(\"Standar deviasi Barang Terjual:\",df_3[\"Terjual\"].std())\n",
    "print(f\"Skewness Barang Terjual: {df_3['Terjual'].skew()}\")\n",
    "print(f\"Kurtosis Barang Terjual: {df_3['Terjual'].kurtosis()}\")"
   ]
  },
  {
   "cell_type": "markdown",
   "metadata": {},
   "source": [
    "Pada cell diatas menjelaskan hasil dari rata-rata, median, standar deviasi, skewness, dan kurtosis dari kolom terjual"
   ]
  },
  {
   "cell_type": "code",
   "execution_count": 18,
   "metadata": {},
   "outputs": [
    {
     "name": "stdout",
     "output_type": "stream",
     "text": [
      "Rata-rata Rating: 4.885051546391752\n",
      "Median Rating: 4.9\n",
      "Standar deviasi Rating: 0.11073586845445847\n",
      "Skewness Rating: -1.2731510799741355\n",
      "Kurtosis Rating: 2.0277841947358026\n"
     ]
    }
   ],
   "source": [
    "print(\"Rata-rata Rating:\",df_3[\"Rating\"].mean())\n",
    "print(\"Median Rating:\",df_3[\"Rating\"].median())\n",
    "print(\"Standar deviasi Rating:\",df_3[\"Rating\"].std())\n",
    "print(f\"Skewness Rating: {df_3['Rating'].skew()}\")\n",
    "print(f\"Kurtosis Rating: {df_3['Rating'].kurtosis()}\")"
   ]
  },
  {
   "cell_type": "markdown",
   "metadata": {},
   "source": [
    "Pada cell diatas menjelaskan hasil dari rata-rata, median, standar deviasi, skewness, dan kurtosis dari kolom rating"
   ]
  },
  {
   "cell_type": "code",
   "execution_count": 19,
   "metadata": {},
   "outputs": [
    {
     "data": {
      "text/plain": [
       "<Axes: >"
      ]
     },
     "execution_count": 19,
     "metadata": {},
     "output_type": "execute_result"
    },
    {
     "data": {
      "image/png": "[encoded data removed]",
      "text/plain": [
       "<Figure size 1000x400 with 2 Axes>"
      ]
     },
     "metadata": {},
     "output_type": "display_data"
    }
   ],
   "source": [
    "fig, ax = plt.subplots(ncols=2,figsize=(10,4))\n",
    "\n",
    "df_3[\"Harga\"].plot(kind='hist',bins=20,ax=ax[0])\n",
    "df_3[\"Harga\"].plot(kind='box',ax=ax[1])"
   ]
  },
  {
   "cell_type": "markdown",
   "metadata": {},
   "source": [
    "Berikut adalah tampilan grafik dengan outlier pada data harga"
   ]
  },
  {
   "cell_type": "code",
   "execution_count": 20,
   "metadata": {},
   "outputs": [
    {
     "data": {
      "text/plain": [
       "<Axes: >"
      ]
     },
     "execution_count": 20,
     "metadata": {},
     "output_type": "execute_result"
    },
    {
     "data": {
      "image/png": "[encoded data removed]",
      "text/plain": [
       "<Figure size 1000x400 with 2 Axes>"
      ]
     },
     "metadata": {},
     "output_type": "display_data"
    }
   ],
   "source": [
    "fig, ax = plt.subplots(ncols=2,figsize=(10,4))\n",
    "\n",
    "df_3[\"Terjual\"].plot(kind='hist',bins=20,ax=ax[0])\n",
    "df_3[\"Terjual\"].plot(kind='box',ax=ax[1])"
   ]
  },
  {
   "cell_type": "markdown",
   "metadata": {},
   "source": [
    "Berikut adalah tampilan outlier pada data terjual"
   ]
  },
  {
   "cell_type": "code",
   "execution_count": 21,
   "metadata": {},
   "outputs": [
    {
     "data": {
      "text/plain": [
       "<Axes: >"
      ]
     },
     "execution_count": 21,
     "metadata": {},
     "output_type": "execute_result"
    },
    {
     "data": {
      "image/png": "[encoded data removed]",
      "text/plain": [
       "<Figure size 1000x400 with 2 Axes>"
      ]
     },
     "metadata": {},
     "output_type": "display_data"
    }
   ],
   "source": [
    "fig, ax = plt.subplots(ncols=2,figsize=(10,4))\n",
    "\n",
    "df_3[\"Rating\"].plot(kind='hist',bins=20,ax=ax[0])\n",
    "df_3[\"Rating\"].plot(kind='box',ax=ax[1])"
   ]
  },
  {
   "cell_type": "markdown",
   "metadata": {},
   "source": [
    "Berikut adalah tampilan outlier pada data rating"
   ]
  },
  {
   "cell_type": "markdown",
   "metadata": {},
   "source": [
    "## 2."
   ]
  },
  {
   "cell_type": "code",
   "execution_count": 22,
   "metadata": {},
   "outputs": [
    {
     "name": "stdout",
     "output_type": "stream",
     "text": [
      "Lower Limit: 18972.118026186945\n",
      "Upper Limit: 25688.820118142954\n"
     ]
    }
   ],
   "source": [
    "std = df_3[\"Harga\"].std()\n",
    "N = len(df_3[\"Harga\"])\n",
    "low, up = stats.norm.interval(0.95,loc=df_3[\"Harga\"].mean(),scale=std/np.sqrt(N))\n",
    "print('Lower Limit:',low)\n",
    "print('Upper Limit:',up)"
   ]
  },
  {
   "cell_type": "markdown",
   "metadata": {},
   "source": [
    "Pada cell diatas kita mendapatkan nilai lower limit serta upper limit pada kolom harga"
   ]
  },
  {
   "cell_type": "code",
   "execution_count": 23,
   "metadata": {},
   "outputs": [
    {
     "data": {
      "text/html": [
       "<div>\n",
       "<style scoped>\n",
       "    .dataframe tbody tr th:only-of-type {\n",
       "        vertical-align: middle;\n",
       "    }\n",
       "\n",
       "    .dataframe tbody tr th {\n",
       "        vertical-align: top;\n",
       "    }\n",
       "\n",
       "    .dataframe thead th {\n",
       "        text-align: right;\n",
       "    }\n",
       "</style>\n",
       "<table border=\"1\" class=\"dataframe\">\n",
       "  <thead>\n",
       "    <tr style=\"text-align: right;\">\n",
       "      <th></th>\n",
       "      <th>Total Pendapatan</th>\n",
       "      <th>Kota</th>\n",
       "    </tr>\n",
       "  </thead>\n",
       "  <tbody>\n",
       "    <tr>\n",
       "      <th>0</th>\n",
       "      <td>90000.0</td>\n",
       "      <td>Cimahi</td>\n",
       "    </tr>\n",
       "    <tr>\n",
       "      <th>1</th>\n",
       "      <td>12500000.0</td>\n",
       "      <td>Depok</td>\n",
       "    </tr>\n",
       "    <tr>\n",
       "      <th>2</th>\n",
       "      <td>6650000.0</td>\n",
       "      <td>Jakarta Selatan</td>\n",
       "    </tr>\n",
       "    <tr>\n",
       "      <th>3</th>\n",
       "      <td>4180000.0</td>\n",
       "      <td>Jakarta Barat</td>\n",
       "    </tr>\n",
       "    <tr>\n",
       "      <th>4</th>\n",
       "      <td>6625000.0</td>\n",
       "      <td>Jakarta Selatan</td>\n",
       "    </tr>\n",
       "    <tr>\n",
       "      <th>...</th>\n",
       "      <td>...</td>\n",
       "      <td>...</td>\n",
       "    </tr>\n",
       "    <tr>\n",
       "      <th>189</th>\n",
       "      <td>300000.0</td>\n",
       "      <td>Bandung</td>\n",
       "    </tr>\n",
       "    <tr>\n",
       "      <th>190</th>\n",
       "      <td>899910.0</td>\n",
       "      <td>Tangerang</td>\n",
       "    </tr>\n",
       "    <tr>\n",
       "      <th>191</th>\n",
       "      <td>11900.0</td>\n",
       "      <td>Kab. Sidoarjo</td>\n",
       "    </tr>\n",
       "    <tr>\n",
       "      <th>192</th>\n",
       "      <td>41994.0</td>\n",
       "      <td>Kab. Garut</td>\n",
       "    </tr>\n",
       "    <tr>\n",
       "      <th>193</th>\n",
       "      <td>700000.0</td>\n",
       "      <td>Kab. Garut</td>\n",
       "    </tr>\n",
       "  </tbody>\n",
       "</table>\n",
       "<p>194 rows × 2 columns</p>\n",
       "</div>"
      ],
      "text/plain": [
       "     Total Pendapatan             Kota\n",
       "0             90000.0           Cimahi\n",
       "1          12500000.0            Depok\n",
       "2           6650000.0  Jakarta Selatan\n",
       "3           4180000.0    Jakarta Barat\n",
       "4           6625000.0  Jakarta Selatan\n",
       "..                ...              ...\n",
       "189          300000.0          Bandung\n",
       "190          899910.0        Tangerang\n",
       "191           11900.0    Kab. Sidoarjo\n",
       "192           41994.0       Kab. Garut\n",
       "193          700000.0       Kab. Garut\n",
       "\n",
       "[194 rows x 2 columns]"
      ]
     },
     "execution_count": 23,
     "metadata": {},
     "output_type": "execute_result"
    }
   ],
   "source": [
    "pendapatan = pd.DataFrame()\n",
    "pendapatan[\"Total Pendapatan\"] = df_3[\"Harga\"]*df_3[\"Terjual\"]\n",
    "pendapatan[\"Kota\"] = df_2[\"Kota\"]\n",
    "pendapatan"
   ]
  },
  {
   "cell_type": "markdown",
   "metadata": {},
   "source": [
    "Untuk mencari total pendapatan diperukan harga dikali Barang Terjual"
   ]
  },
  {
   "cell_type": "code",
   "execution_count": 24,
   "metadata": {},
   "outputs": [
    {
     "name": "stdout",
     "output_type": "stream",
     "text": [
      "Lower Limit: 6961467.821271107\n",
      "Upper Limit: 14304864.869450543\n"
     ]
    }
   ],
   "source": [
    "std = pendapatan[\"Total Pendapatan\"].std()\n",
    "N = len(pendapatan[\"Total Pendapatan\"])\n",
    "low, up = stats.norm.interval(0.95,loc=pendapatan[\"Total Pendapatan\"].mean(),scale=std/np.sqrt(N))\n",
    "print('Lower Limit:',low)\n",
    "print('Upper Limit:',up)"
   ]
  },
  {
   "cell_type": "markdown",
   "metadata": {},
   "source": [
    "Estimasi penjualan perbulan didapat lower sebesar 6,96 juta\n",
    "serta didapat upper sebesar 14,3 juta"
   ]
  },
  {
   "cell_type": "markdown",
   "metadata": {},
   "source": [
    "## 3."
   ]
  },
  {
   "cell_type": "code",
   "execution_count": 25,
   "metadata": {},
   "outputs": [],
   "source": [
    "jabodetabek = df_2[df_2['Kota'].str.contains('Depok|Jakarta Selatan|Jakarta Barat|Jakarta Timur|Jakarta Pusat|Jakarta Utara|Tangerang Selatan|Bekasi|Bogor|Tangerang')]\n",
    "luar = df_2[df_2['Kota'].str.contains('Depok|Jakarta Selatan|Jakarta Barat|Jakarta Timur|Jakarta Pusat|Jakarta Utara|Tangerang Selatan|Bekasi|Bogor|Tangerang')==False]"
   ]
  },
  {
   "cell_type": "markdown",
   "metadata": {},
   "source": [
    "Memfilter jabodetabek dan luar jabodetabek dimanaa jabodetabek disimpan pada \"jabodetabek\" dan diluar jabodetabek disimpan dengan \"luar\""
   ]
  },
  {
   "cell_type": "code",
   "execution_count": 26,
   "metadata": {},
   "outputs": [
    {
     "name": "stdout",
     "output_type": "stream",
     "text": [
      "Rata-rata harga Jabodetabek:  23504.772727272728\n"
     ]
    }
   ],
   "source": [
    "print(\"Rata-rata harga Jabodetabek: \",jabodetabek['Harga'].mean())"
   ]
  },
  {
   "cell_type": "markdown",
   "metadata": {},
   "source": [
    "Rata-rata harga seblak di jabodetabek sebesar 23.500"
   ]
  },
  {
   "cell_type": "code",
   "execution_count": 27,
   "metadata": {},
   "outputs": [
    {
     "name": "stdout",
     "output_type": "stream",
     "text": [
      "Rata-rata harga luar:  21724.96875\n"
     ]
    }
   ],
   "source": [
    "print(\"Rata-rata harga luar: \",luar['Harga'].mean())"
   ]
  },
  {
   "cell_type": "markdown",
   "metadata": {},
   "source": [
    "Berikut adalah harga rata-rata seblak di luar jabodetabek sebesar 21.700"
   ]
  },
  {
   "cell_type": "code",
   "execution_count": 28,
   "metadata": {},
   "outputs": [
    {
     "name": "stdout",
     "output_type": "stream",
     "text": [
      "T-Statistic: 0.4911498408391872\n",
      "P-value: 0.6238814088466749\n"
     ]
    }
   ],
   "source": [
    "t_stat, p_val = stats.ttest_ind(jabodetabek['Harga'],luar['Harga'])\n",
    "print('T-Statistic:',t_stat)\n",
    "print('P-value:',p_val) #"
   ]
  },
  {
   "cell_type": "markdown",
   "metadata": {},
   "source": [
    "Berikut pengecekan normalisasi harga jabodetabek dan luar didapat T-Statistic: 0.491 dan P-value: 0.624"
   ]
  },
  {
   "cell_type": "markdown",
   "metadata": {},
   "source": [
    "Uji Hipotesis menggunakan Two-Sample Independent Test:\n",
    "\n",
    "H0 = Rata rata harga seblak di Jabodetabek sama dengan harga diluar Jabodetabek\n",
    "\n",
    "H1 = Rata rata harga seblak di Jabodetabek tidak sama dengan harga diluar Jabodetabek"
   ]
  },
  {
   "cell_type": "markdown",
   "metadata": {},
   "source": [
    "## 4."
   ]
  },
  {
   "cell_type": "code",
   "execution_count": 31,
   "metadata": {},
   "outputs": [
    {
     "data": {
      "text/plain": [
       "<seaborn.axisgrid.FacetGrid at 0x2bf69bb1e50>"
      ]
     },
     "execution_count": 31,
     "metadata": {},
     "output_type": "execute_result"
    },
    {
     "data": {
      "image/png": "[encoded data removed]",
      "text/plain": [
       "<Figure size 500x500 with 1 Axes>"
      ]
     },
     "metadata": {},
     "output_type": "display_data"
    }
   ],
   "source": [
    "sns.lmplot(data=df_2,x='Terjual', y='Harga')"
   ]
  },
  {
   "cell_type": "markdown",
   "metadata": {},
   "source": [
    "Berikut grafik korelasi dari harga seblak dan seblak terjual, kebanyakan masyarakat yang membeli seblak cenderung lebih memilih harga seblak yang terbilang murah"
   ]
  },
  {
   "cell_type": "code",
   "execution_count": 30,
   "metadata": {},
   "outputs": [
    {
     "name": "stdout",
     "output_type": "stream",
     "text": [
      "(Pearson) correlation-r : -0.13, p-value: 0.06197135405029176\n",
      "(Spearman) correlation-rho  : -0.17, p-value: 0.017042691153481334\n",
      "(Kendall) correlation-tau   : -0.12, p-value: 0.014074242052491154\n"
     ]
    }
   ],
   "source": [
    "corr_r, pval_p = stats.pearsonr(df_2['Harga'],df_2['Terjual'])\n",
    "corr_rho, pval_s = stats.spearmanr(df_2['Harga'],df_2['Terjual'])\n",
    "corr_tau, pval_k = stats.kendalltau(df_2['Harga'],df_2['Terjual'])\n",
    "\n",
    "print(f\"(Pearson) correlation-r : {corr_r:.2f}, p-value: {pval_p}\")\n",
    "print(f\"(Spearman) correlation-rho  : {corr_rho:.2f}, p-value: {pval_s}\")\n",
    "print(f\"(Kendall) correlation-tau   : {corr_tau:.2f}, p-value: {pval_k}\")"
   ]
  },
  {
   "cell_type": "markdown",
   "metadata": {},
   "source": [
    "Pearson  nilai -0.13 artinya hubungan negatif. P-value (0.06197) menunjukkan tingkat signifikansi dari korelasi tersebut. Dalam hal ini, p-value lebih besar dari 0.05, sehingga tidak cukup bukti untuk menolak hipotesis nol (tidak ada korelasi).\n",
    "\n",
    "Spearman nilai -0.17 artinya hubungan negatif. p-value < 0.05 sehingga kita dapat menolak hipotesis nol dan menyimpulkan (adanya korelasi).\n",
    "\n",
    "Kendall nilai -0.12 menunjukkan adanya hubungan negatif. P-value < 0.05 sehingga kita dapat menolak hipotesis nol dan menyimpulkan adanya korelasi."
   ]
  },
  {
   "cell_type": "markdown",
   "metadata": {},
   "source": [
    "# Kesimpulan\n",
    "<div class=\"justify\">Masyarakat jabodetabek maupun luar membeli seblak pada Tokopedia dengan rata2 Harga Rp22330 dan rata2 toko dapat menjual sebanyak 702pcs dengan rating yang bisa dibilang cukup tinggi sebesar 4,9/5. Harga rata-rata pendapatan toko seblak pada Tokopedia sebesar minimum pada angka 6.961.467 dan terbesar pada angka Rp.14.304.864, dimana rata2 Harga seblak pada lokasi jabodetabek sebesar Rp23500 dan luar jabodetabek Rp21700, uji hipotesis menggunakan two-sample independent test dengan h0 rata2 seblak jabodetabek sama dengan luar jabodetabek, dan rata2 seblak beda dengan luar jabodetabek, serta didapat korelasi bahwa pemebeli terbesar kebanyakan membeli seblak dengan Harga terendah baik diluar jabodetabek maupun didalam jabodetabek</div>"
   ]
  }
 ],
 "metadata": {
  "kernelspec": {
   "display_name": "base",
   "language": "python",
   "name": "python3"
  },
  "language_info": {
   "codemirror_mode": {
    "name": "ipython",
    "version": 3
   },
   "file_extension": ".py",
   "mimetype": "text/x-python",
   "name": "python",
   "nbconvert_exporter": "python",
   "pygments_lexer": "ipython3",
   "version": "3.11.7"
  }
 },
 "nbformat": 4,
 "nbformat_minor": 2
}
